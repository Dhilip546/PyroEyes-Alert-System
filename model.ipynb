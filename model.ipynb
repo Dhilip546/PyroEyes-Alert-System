{
  "cells": [
    {
      "cell_type": "markdown",
      "metadata": {
        "id": "view-in-github",
        "colab_type": "text"
      },
      "source": [
        "<a href=\"https://colab.research.google.com/github/Dhilip546/PyroEyes-Alert-System/blob/main/model.ipynb\" target=\"_parent\"><img src=\"https://colab.research.google.com/assets/colab-badge.svg\" alt=\"Open In Colab\"/></a>"
      ]
    },
    {
      "cell_type": "code",
      "execution_count": null,
      "metadata": {
        "id": "mIxLoyu_H6wm"
      },
      "outputs": [],
      "source": [
        "# import required libraries\n",
        "\n",
        "import os\n",
        "import tensorflow as tf\n",
        "import numpy as np\n",
        "import matplotlib.pyplot as plt\n",
        "import matplotlib.image as mimg\n",
        "from tensorflow.keras.preprocessing.image import ImageDataGenerator\n",
        "from tensorflow.keras.models import Sequential\n",
        "from tensorflow.keras.layers import Conv2D,MaxPooling2D,Dropout,BatchNormalization,Dense,GlobalAveragePooling2D"
      ]
    },
    {
      "cell_type": "code",
      "execution_count": null,
      "metadata": {
        "colab": {
          "base_uri": "https://localhost:8080/"
        },
        "id": "9m89YW3u6g7U",
        "outputId": "c544df29-04d4-4428-b00f-8ec6f256c914"
      },
      "outputs": [
        {
          "output_type": "stream",
          "name": "stdout",
          "text": [
            "Found 999 images belonging to 2 classes.\n"
          ]
        }
      ],
      "source": [
        "import tensorflow as tp\n",
        "from keras.preprocessing.image import ImageDataGenerator\n",
        "\n",
        "train_datagen = ImageDataGenerator(rescale =1./255,\n",
        "                                  zoom_range = 0.2,\n",
        "                                  shear_range = 0.2 ,#tilts the image\n",
        "                                  horizontal_flip = True)\n",
        "training_set = train_datagen.flow_from_directory('/content/drive/MyDrive/Kaggle/data/fire_dataset',\n",
        "                                                  target_size = (64,64),\n",
        "                                                 batch_size = 32,\n",
        "\n",
        "                                                 class_mode ='binary')\n"
      ]
    },
    {
      "cell_type": "code",
      "execution_count": null,
      "metadata": {
        "colab": {
          "base_uri": "https://localhost:8080/"
        },
        "id": "L8WSS76c66JA",
        "outputId": "36fc54bb-7eae-4767-c57d-67aced6899be"
      },
      "outputs": [
        {
          "output_type": "execute_result",
          "data": {
            "text/plain": [
              "{'fire_images': 0, 'non_fire_images': 1}"
            ]
          },
          "metadata": {},
          "execution_count": 3
        }
      ],
      "source": [
        "\n",
        "training_set.class_indices\n"
      ]
    },
    {
      "cell_type": "code",
      "execution_count": null,
      "metadata": {
        "colab": {
          "base_uri": "https://localhost:8080/"
        },
        "id": "1pg9tEw267d4",
        "outputId": "072b6338-ca19-4fa4-dfa5-5ca0ca9735d0"
      },
      "outputs": [
        {
          "output_type": "stream",
          "name": "stdout",
          "text": [
            "Found 651 images belonging to 2 classes.\n"
          ]
        }
      ],
      "source": [
        "test_datagen = ImageDataGenerator(rescale =1./255,\n",
        "                                  zoom_range = 0.2,\n",
        "                                  shear_range = 0.2, #tilts the image\n",
        "                                  horizontal_flip = True)\n",
        "test_set = test_datagen.flow_from_directory('/content/drive/MyDrive/data',\n",
        "                                                  target_size = (64,64),\n",
        "                                                 batch_size = 32,\n",
        "                                                 class_mode ='binary')\n",
        "\n"
      ]
    },
    {
      "cell_type": "code",
      "execution_count": null,
      "metadata": {
        "colab": {
          "base_uri": "https://localhost:8080/"
        },
        "id": "Vv26Tyfd7gGb",
        "outputId": "2e135a9c-b3a3-4505-80ac-ab3afc093a13"
      },
      "outputs": [
        {
          "output_type": "execute_result",
          "data": {
            "text/plain": [
              "{'fire_images': 0, 'non_fire_images': 1}"
            ]
          },
          "metadata": {},
          "execution_count": 5
        }
      ],
      "source": [
        "test_set.class_indices"
      ]
    },
    {
      "cell_type": "code",
      "execution_count": null,
      "metadata": {
        "colab": {
          "base_uri": "https://localhost:8080/"
        },
        "id": "vYT1Qaxe85DB",
        "outputId": "a2162185-4344-4d73-c756-ffb1d4961c2e"
      },
      "outputs": [
        {
          "output_type": "stream",
          "name": "stdout",
          "text": [
            "Model: \"sequential\"\n",
            "_________________________________________________________________\n",
            " Layer (type)                Output Shape              Param #   \n",
            "=================================================================\n",
            " conv2d (Conv2D)             (None, 62, 62, 32)        896       \n",
            "                                                                 \n",
            " max_pooling2d (MaxPooling2  (None, 31, 31, 32)        0         \n",
            " D)                                                              \n",
            "                                                                 \n",
            " conv2d_1 (Conv2D)           (None, 29, 29, 32)        9248      \n",
            "                                                                 \n",
            " max_pooling2d_1 (MaxPoolin  (None, 14, 14, 32)        0         \n",
            " g2D)                                                            \n",
            "                                                                 \n",
            " flatten (Flatten)           (None, 6272)              0         \n",
            "                                                                 \n",
            " dense (Dense)               (None, 128)               802944    \n",
            "                                                                 \n",
            " dense_1 (Dense)             (None, 164)               21156     \n",
            "                                                                 \n",
            " dense_2 (Dense)             (None, 1)                 165       \n",
            "                                                                 \n",
            "=================================================================\n",
            "Total params: 834409 (3.18 MB)\n",
            "Trainable params: 834409 (3.18 MB)\n",
            "Non-trainable params: 0 (0.00 Byte)\n",
            "_________________________________________________________________\n"
          ]
        }
      ],
      "source": [
        "from tensorflow import keras\n",
        "cnn = keras.Sequential()\n",
        "#first conv2d\n",
        "cnn.add(keras.layers.Conv2D(filters=32,kernel_size=3,activation='relu', input_shape=[64,64,3]))\n",
        "cnn.add(keras.layers.MaxPool2D(pool_size=(2,2), strides = 2))\n",
        "#second conv2d\n",
        "cnn.add(keras.layers.Conv2D(filters=32,kernel_size=3,activation='relu'))\n",
        "cnn.add(keras.layers.MaxPool2D(pool_size=(2,2), strides = 2))\n",
        "cnn.add(keras.layers.Flatten())\n",
        "cnn.add(keras.layers.Dense(128,activation='relu'))\n",
        "cnn.add(keras.layers.Dense(164,activation='relu'))\n",
        "cnn.add(keras.layers.Dense(1,activation='sigmoid'))\n",
        "\n",
        "cnn.summary()\n"
      ]
    },
    {
      "cell_type": "code",
      "execution_count": null,
      "metadata": {
        "colab": {
          "base_uri": "https://localhost:8080/"
        },
        "id": "mRBEcWMp9Dh-",
        "outputId": "079b69bb-2801-407b-e32e-c8a8f257779c"
      },
      "outputs": [
        {
          "output_type": "stream",
          "name": "stdout",
          "text": [
            "Epoch 1/15\n",
            "32/32 [==============================] - 300s 9s/step - loss: 0.3706 - accuracy: 0.8398 - val_loss: 2.4114 - val_accuracy: 0.2857\n",
            "Epoch 2/15\n",
            "32/32 [==============================] - 39s 1s/step - loss: 0.1928 - accuracy: 0.9129 - val_loss: 2.3764 - val_accuracy: 0.3303\n",
            "Epoch 3/15\n",
            "32/32 [==============================] - 38s 1s/step - loss: 0.1229 - accuracy: 0.9540 - val_loss: 3.0424 - val_accuracy: 0.2811\n",
            "Epoch 4/15\n",
            "32/32 [==============================] - 37s 1s/step - loss: 0.1458 - accuracy: 0.9419 - val_loss: 1.5764 - val_accuracy: 0.5730\n",
            "Epoch 5/15\n",
            "32/32 [==============================] - 37s 1s/step - loss: 0.1158 - accuracy: 0.9530 - val_loss: 1.3764 - val_accuracy: 0.6759\n",
            "Epoch 6/15\n",
            "32/32 [==============================] - 38s 1s/step - loss: 0.1107 - accuracy: 0.9630 - val_loss: 2.8713 - val_accuracy: 0.2965\n",
            "Epoch 7/15\n",
            "32/32 [==============================] - 36s 1s/step - loss: 0.1085 - accuracy: 0.9620 - val_loss: 1.5631 - val_accuracy: 0.6452\n",
            "Epoch 8/15\n",
            "32/32 [==============================] - 38s 1s/step - loss: 0.1160 - accuracy: 0.9560 - val_loss: 1.4640 - val_accuracy: 0.6943\n",
            "Epoch 9/15\n",
            "32/32 [==============================] - 38s 1s/step - loss: 0.0989 - accuracy: 0.9650 - val_loss: 2.4290 - val_accuracy: 0.5008\n",
            "Epoch 10/15\n",
            "32/32 [==============================] - 39s 1s/step - loss: 0.0997 - accuracy: 0.9620 - val_loss: 2.8666 - val_accuracy: 0.3564\n",
            "Epoch 11/15\n",
            "32/32 [==============================] - 41s 1s/step - loss: 0.0939 - accuracy: 0.9650 - val_loss: 2.1913 - val_accuracy: 0.5023\n",
            "Epoch 12/15\n",
            "32/32 [==============================] - 42s 1s/step - loss: 0.0938 - accuracy: 0.9660 - val_loss: 2.0459 - val_accuracy: 0.4747\n",
            "Epoch 13/15\n",
            "32/32 [==============================] - 38s 1s/step - loss: 0.0717 - accuracy: 0.9770 - val_loss: 1.9542 - val_accuracy: 0.6114\n",
            "Epoch 14/15\n",
            "32/32 [==============================] - 37s 1s/step - loss: 0.0606 - accuracy: 0.9780 - val_loss: 3.2880 - val_accuracy: 0.4255\n",
            "Epoch 15/15\n",
            "32/32 [==============================] - 38s 1s/step - loss: 0.0533 - accuracy: 0.9770 - val_loss: 2.7130 - val_accuracy: 0.5960\n"
          ]
        }
      ],
      "source": [
        "cnn.compile(optimizer='adam', loss='binary_crossentropy', metrics='accuracy')\n",
        "model_history = cnn.fit(x=training_set, validation_data=test_set, epochs=15)\n"
      ]
    },
    {
      "cell_type": "code",
      "source": [],
      "metadata": {
        "id": "77dQsePgcN0U"
      },
      "execution_count": null,
      "outputs": []
    },
    {
      "cell_type": "code",
      "source": [
        "\n",
        "import pandas as pd\n",
        "pd.DataFrame(model_history.history).plot()\n"
      ],
      "metadata": {
        "colab": {
          "base_uri": "https://localhost:8080/",
          "height": 447
        },
        "id": "7dduS4nUVc7z",
        "outputId": "dd48e0f8-2e46-411e-c863-36e7b673a50d"
      },
      "execution_count": null,
      "outputs": [
        {
          "output_type": "execute_result",
          "data": {
            "text/plain": [
              "<Axes: >"
            ]
          },
          "metadata": {},
          "execution_count": 8
        },
        {
          "output_type": "display_data",
          "data": {
            "text/plain": [
              "<Figure size 640x480 with 1 Axes>"
            ],
            "image/png": "[encoded data removed]"
          },
          "metadata": {}
        }
      ]
    },
    {
      "cell_type": "code",
      "execution_count": null,
      "metadata": {
        "id": "Mve6RP0D9Dk2"
      },
      "outputs": [],
      "source": [
        "from keras.utils import load_img,img_to_array\n",
        "test=load_img('Downloads/cat.jpeg',target_size=(64,64))\n",
        "test\n"
      ]
    },
    {
      "cell_type": "code",
      "execution_count": null,
      "metadata": {
        "id": "FKPg3kVv9DoG"
      },
      "outputs": [],
      "source": [
        "from keras.preprocessing.image import load_img, img_to_array\n",
        "import requests\n",
        "from PIL import Image\n",
        "from io import BytesIO\n",
        "\n",
        "# Specify the URL of the image you want to load\n",
        "image_url = 'https://encrypted-tbn0.gstatic.com/images?q=tbn:ANd9GcQmulIVB_O--rAlz2umGQ5QtBTXqEXxJryzYA&usqp=CAU'\n",
        "\n",
        "# Fetch the image from the URL\n",
        "response = requests.get(image_url)\n",
        "img = Image.open(BytesIO(response.content))\n",
        "\n",
        "# Resize the image to the target size (e.g., 64x64)\n",
        "img = img.resize((64, 64))\n",
        "\n",
        "# Convert the image to a NumPy array\n",
        "test= img_to_array(img)\n"
      ]
    },
    {
      "cell_type": "markdown",
      "source": [],
      "metadata": {
        "id": "MJvApEE3aUWm"
      }
    },
    {
      "cell_type": "code",
      "source": [
        "import numpy as np\n",
        "test=(np.expand_dims(test, axis=0))\n",
        "test.shape\n"
      ],
      "metadata": {
        "colab": {
          "base_uri": "https://localhost:8080/"
        },
        "id": "3S9PwEtGaHwq",
        "outputId": "d206f3f8-d1dd-49c4-b02b-e9d9d2fea0da"
      },
      "execution_count": null,
      "outputs": [
        {
          "output_type": "execute_result",
          "data": {
            "text/plain": [
              "(1, 64, 64, 3)"
            ]
          },
          "metadata": {},
          "execution_count": 27
        }
      ]
    },
    {
      "cell_type": "code",
      "source": [
        "result = cnn.predict(test)\n"
      ],
      "metadata": {
        "colab": {
          "base_uri": "https://localhost:8080/"
        },
        "id": "mpRDw3wCadFq",
        "outputId": "2f9b3b0e-0869-45e5-bece-2ce1ded2ddbd"
      },
      "execution_count": null,
      "outputs": [
        {
          "output_type": "stream",
          "name": "stdout",
          "text": [
            "1/1 [==============================] - 0s 32ms/step\n"
          ]
        }
      ]
    },
    {
      "cell_type": "code",
      "source": [
        "\n",
        "if result[0][0] == 1:\n",
        "    prediction='non fire'\n",
        "else:\n",
        "    prediction ='fire'\n",
        "print(prediction)\n"
      ],
      "metadata": {
        "colab": {
          "base_uri": "https://localhost:8080/"
        },
        "id": "PyAICwkCal4_",
        "outputId": "af19359a-30f3-4805-a272-855c0638eacc"
      },
      "execution_count": null,
      "outputs": [
        {
          "output_type": "stream",
          "name": "stdout",
          "text": [
            "non fire\n"
          ]
        }
      ]
    },
    {
      "cell_type": "code",
      "source": [
        "import cv2\n",
        "import numpy as np\n",
        "from keras.models import load_model\n",
        "from keras.preprocessing.image import img_to_array\n",
        "from PIL import Image\n"
      ],
      "metadata": {
        "id": "hWPuc3LtcOph"
      },
      "execution_count": null,
      "outputs": []
    },
    {
      "cell_type": "code",
      "source": [
        "cnn.save('cnn.h5')  # Replace 'fire_detection_model.h5' with the desired file name\n"
      ],
      "metadata": {
        "colab": {
          "base_uri": "https://localhost:8080/"
        },
        "id": "9TzikFcUcqDx",
        "outputId": "9735c56a-1b99-49b4-9842-81c27dd341c6"
      },
      "execution_count": null,
      "outputs": [
        {
          "output_type": "stream",
          "name": "stderr",
          "text": [
            "/usr/local/lib/python3.10/dist-packages/keras/src/engine/training.py:3079: UserWarning: You are saving your model as an HDF5 file via `model.save()`. This file format is considered legacy. We recommend using instead the native Keras format, e.g. `model.save('my_model.keras')`.\n",
            "  saving_api.save_model(\n"
          ]
        }
      ]
    },
    {
      "cell_type": "code",
      "source": [
        "from google.colab import files\n",
        "files.download('cnn.h5')\n"
      ],
      "metadata": {
        "id": "u3SXR7nGfldi",
        "outputId": "b7516aec-04e8-436b-c4bb-61e94c7b7576",
        "colab": {
          "base_uri": "https://localhost:8080/",
          "height": 34
        }
      },
      "execution_count": null,
      "outputs": [
        {
          "output_type": "display_data",
          "data": {
            "text/plain": [
              "<IPython.core.display.Javascript object>"
            ],
            "application/javascript": [
              "\n",
              "    async function download(id, filename, size) {\n",
              "      if (!google.colab.kernel.accessAllowed) {\n",
              "        return;\n",
              "      }\n",
              "      const div = document.createElement('div');\n",
              "      const label = document.createElement('label');\n",
              "      label.textContent = `Downloading \"${filename}\": `;\n",
              "      div.appendChild(label);\n",
              "      const progress = document.createElement('progress');\n",
              "      progress.max = size;\n",
              "      div.appendChild(progress);\n",
              "      document.body.appendChild(div);\n",
              "\n",
              "      const buffers = [];\n",
              "      let downloaded = 0;\n",
              "\n",
              "      const channel = await google.colab.kernel.comms.open(id);\n",
              "      // Send a message to notify the kernel that we're ready.\n",
              "      channel.send({})\n",
              "\n",
              "      for await (const message of channel.messages) {\n",
              "        // Send a message to notify the kernel that we're ready.\n",
              "        channel.send({})\n",
              "        if (message.buffers) {\n",
              "          for (const buffer of message.buffers) {\n",
              "            buffers.push(buffer);\n",
              "            downloaded += buffer.byteLength;\n",
              "            progress.value = downloaded;\n",
              "          }\n",
              "        }\n",
              "      }\n",
              "      const blob = new Blob(buffers, {type: 'application/binary'});\n",
              "      const a = document.createElement('a');\n",
              "      a.href = window.URL.createObjectURL(blob);\n",
              "      a.download = filename;\n",
              "      div.appendChild(a);\n",
              "      a.click();\n",
              "      div.remove();\n",
              "    }\n",
              "  "
            ]
          },
          "metadata": {}
        },
        {
          "output_type": "display_data",
          "data": {
            "text/plain": [
              "<IPython.core.display.Javascript object>"
            ],
            "application/javascript": [
              "download(\"download_4621ca0f-da00-4f65-8333-a41936545b3a\", \"cnn.h5\", 10063992)"
            ]
          },
          "metadata": {}
        }
      ]
    },
    {
      "cell_type": "code",
      "source": [],
      "metadata": {
        "id": "zYaHHH41floY"
      },
      "execution_count": null,
      "outputs": []
    },
    {
      "cell_type": "code",
      "source": [
        "from keras.models import load_model\n",
        "\n",
        "model = load_model('cnn.h5')  # Replace with your model file name\n"
      ],
      "metadata": {
        "id": "OPT5ywEvcteO"
      },
      "execution_count": null,
      "outputs": []
    },
    {
      "cell_type": "code",
      "source": [
        "!pip install opencv-python\n",
        "\n",
        "cap = cv2.VideoCapture(0)  # 0 for the default camera, adjust if needed\n"
      ],
      "metadata": {
        "colab": {
          "base_uri": "https://localhost:8080/"
        },
        "id": "F0s14i9ocO0O",
        "outputId": "55b1ead8-e454-4596-f031-9dae106ff8c8"
      },
      "execution_count": null,
      "outputs": [
        {
          "output_type": "stream",
          "name": "stdout",
          "text": [
            "Requirement already satisfied: opencv-python in /usr/local/lib/python3.10/dist-packages (4.8.0.76)\n",
            "Requirement already satisfied: numpy>=1.21.2 in /usr/local/lib/python3.10/dist-packages (from opencv-python) (1.23.5)\n"
          ]
        }
      ]
    },
    {
      "cell_type": "code",
      "source": [
        "while True:\n",
        "    ret, frame = cap.read()  # Read a frame from the camera\n",
        "    if not ret:\n",
        "        break  # Break the loop if frame capture fails\n",
        "\n",
        "    # Preprocess the captured frame\n",
        "    frame = cv2.cvtColor(frame, cv2.COLOR_BGR2RGB)  # Convert BGR to RGB\n",
        "    frame = cv2.resize(frame, (64, 64))  # Resize to match your model's input size\n",
        "    frame = img_to_array(frame)\n",
        "    frame = np.expand_dims(frame, axis=0)  # Add batch dimension\n",
        "\n",
        "    # Make a prediction\n",
        "    prediction = model.predict(frame)\n",
        "\n",
        "    # Get the predicted class (0 or 1)\n",
        "    predicted_class = int(round(prediction[0][0]))\n",
        "\n",
        "    # Display the frame with the predicted class\n",
        "    if predicted_class == 1:\n",
        "        cv2.putText(frame, 'Fire Detected', (10, 30), cv2.FONT_HERSHEY_SIMPLEX, 1, (0, 0, 255), 2)\n",
        "    else:\n",
        "        cv2.putText(frame, 'No Fire', (10, 30), cv2.FONT_HERSHEY_SIMPLEX, 1, (0, 255, 0), 2)\n",
        "\n",
        "    cv2.imshow('Fire Detection', frame)\n",
        "\n",
        "    # Break the loop if the 'q' key is pressed\n",
        "    if cv2.waitKey(1) & 0xFF == ord('q'):\n",
        "        break\n",
        "\n",
        "# Release the camera and close the OpenCV window\n",
        "cap.release()\n",
        "cv2.destroyAllWindows()\n"
      ],
      "metadata": {
        "id": "fjc8mwk_cO20"
      },
      "execution_count": null,
      "outputs": []
    },
    {
      "cell_type": "code",
      "source": [
        "import cv2\n",
        "cap = cv2.VideoCapture(0)\n",
        "ret, frame = cap.read()\n",
        "if ret:\n",
        "    print(\"Camera is accessible.\")\n",
        "    cap.release()\n",
        "else:\n",
        "    print(\"Failed to access the camera.\")\n"
      ],
      "metadata": {
        "colab": {
          "base_uri": "https://localhost:8080/"
        },
        "id": "0Am27BsncO5Y",
        "outputId": "2b93175e-6898-44f6-9828-7792662e145e"
      },
      "execution_count": null,
      "outputs": [
        {
          "output_type": "stream",
          "name": "stdout",
          "text": [
            "Failed to access the camera.\n"
          ]
        }
      ]
    }
  ],
  "metadata": {
    "colab": {
      "provenance": [],
      "toc_visible": true,
      "mount_file_id": "1h-CgqvQqVmHPS37kwb5doB3sQPTx_VWk",
      "authorship_tag": "ABX9TyPb+WLvpMgvPUBNU+n78kp1",
      "include_colab_link": true
    },
    "kernelspec": {
      "display_name": "Python 3",
      "name": "python3"
    },
    "language_info": {
      "name": "python"
    }
  },
  "nbformat": 4,
  "nbformat_minor": 0
}